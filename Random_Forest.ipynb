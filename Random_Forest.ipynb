{
 "cells": [
  {
   "cell_type": "code",
   "execution_count": 1,
   "metadata": {},
   "outputs": [],
   "source": [
    "import warnings\n",
    "warnings.filterwarnings(\"ignore\")"
   ]
  },
  {
   "cell_type": "code",
   "execution_count": 2,
   "metadata": {},
   "outputs": [],
   "source": [
    "import numpy as np\n",
    "import pandas as pd\n",
    "import seaborn as sns\n",
    "import matplotlib.pyplot as plt\n",
    "from sklearn.preprocessing import LabelEncoder \n",
    "from sklearn.model_selection import train_test_split\n",
    "from sklearn.metrics import classification_report,confusion_matrix,accuracy_score,precision_recall_fscore_support\n",
    "from sklearn.metrics import f1_score\n",
    "from sklearn.ensemble import RandomForestClassifier,ExtraTreesClassifier\n",
    "from sklearn.tree import DecisionTreeClassifier\n",
    "import xgboost as xgb\n",
    "from xgboost import plot_importance"
   ]
  },
  {
   "cell_type": "markdown",
   "metadata": {},
   "source": [
    "## Read the sampled dataset\n"
   ]
  },
  {
   "cell_type": "code",
   "execution_count": 3,
   "metadata": {},
   "outputs": [],
   "source": [
    "#Read dataset\n",
    "df = pd.read_csv('C:\\\\Users\\\\aayus\\\\Documents\\\\Brahmastra\\\\Intrusion-Detection-System-Using-Machine-Learning-main\\\\data\\\\CICIDS2017_sample.csv')\n",
    "# The results in this code is based on the original CICIDS2017 dataset. Please go to cell [10] if you work on the sampled dataset. "
   ]
  },
  {
   "cell_type": "code",
   "execution_count": 4,
   "metadata": {},
   "outputs": [
    {
     "data": {
      "text/html": [
       "<div>\n",
       "<style scoped>\n",
       "    .dataframe tbody tr th:only-of-type {\n",
       "        vertical-align: middle;\n",
       "    }\n",
       "\n",
       "    .dataframe tbody tr th {\n",
       "        vertical-align: top;\n",
       "    }\n",
       "\n",
       "    .dataframe thead th {\n",
       "        text-align: right;\n",
       "    }\n",
       "</style>\n",
       "<table border=\"1\" class=\"dataframe\">\n",
       "  <thead>\n",
       "    <tr style=\"text-align: right;\">\n",
       "      <th></th>\n",
       "      <th>Flow Duration</th>\n",
       "      <th>Total Fwd Packets</th>\n",
       "      <th>Total Backward Packets</th>\n",
       "      <th>Total Length of Fwd Packets</th>\n",
       "      <th>Total Length of Bwd Packets</th>\n",
       "      <th>Fwd Packet Length Max</th>\n",
       "      <th>Fwd Packet Length Min</th>\n",
       "      <th>Fwd Packet Length Mean</th>\n",
       "      <th>Fwd Packet Length Std</th>\n",
       "      <th>Bwd Packet Length Max</th>\n",
       "      <th>...</th>\n",
       "      <th>min_seg_size_forward</th>\n",
       "      <th>Active Mean</th>\n",
       "      <th>Active Std</th>\n",
       "      <th>Active Max</th>\n",
       "      <th>Active Min</th>\n",
       "      <th>Idle Mean</th>\n",
       "      <th>Idle Std</th>\n",
       "      <th>Idle Max</th>\n",
       "      <th>Idle Min</th>\n",
       "      <th>Label</th>\n",
       "    </tr>\n",
       "  </thead>\n",
       "  <tbody>\n",
       "    <tr>\n",
       "      <th>0</th>\n",
       "      <td>4</td>\n",
       "      <td>2</td>\n",
       "      <td>0</td>\n",
       "      <td>37</td>\n",
       "      <td>0</td>\n",
       "      <td>31</td>\n",
       "      <td>6</td>\n",
       "      <td>18.500000</td>\n",
       "      <td>17.677670</td>\n",
       "      <td>0</td>\n",
       "      <td>...</td>\n",
       "      <td>20</td>\n",
       "      <td>0.0</td>\n",
       "      <td>0.0</td>\n",
       "      <td>0</td>\n",
       "      <td>0</td>\n",
       "      <td>0.0</td>\n",
       "      <td>0.0</td>\n",
       "      <td>0</td>\n",
       "      <td>0</td>\n",
       "      <td>BENIGN</td>\n",
       "    </tr>\n",
       "    <tr>\n",
       "      <th>1</th>\n",
       "      <td>142377</td>\n",
       "      <td>46</td>\n",
       "      <td>62</td>\n",
       "      <td>1325</td>\n",
       "      <td>105855</td>\n",
       "      <td>570</td>\n",
       "      <td>0</td>\n",
       "      <td>28.804348</td>\n",
       "      <td>111.407285</td>\n",
       "      <td>4344</td>\n",
       "      <td>...</td>\n",
       "      <td>20</td>\n",
       "      <td>0.0</td>\n",
       "      <td>0.0</td>\n",
       "      <td>0</td>\n",
       "      <td>0</td>\n",
       "      <td>0.0</td>\n",
       "      <td>0.0</td>\n",
       "      <td>0</td>\n",
       "      <td>0</td>\n",
       "      <td>BENIGN</td>\n",
       "    </tr>\n",
       "    <tr>\n",
       "      <th>2</th>\n",
       "      <td>118873</td>\n",
       "      <td>23</td>\n",
       "      <td>28</td>\n",
       "      <td>1169</td>\n",
       "      <td>45025</td>\n",
       "      <td>570</td>\n",
       "      <td>0</td>\n",
       "      <td>50.826087</td>\n",
       "      <td>156.137367</td>\n",
       "      <td>2896</td>\n",
       "      <td>...</td>\n",
       "      <td>32</td>\n",
       "      <td>0.0</td>\n",
       "      <td>0.0</td>\n",
       "      <td>0</td>\n",
       "      <td>0</td>\n",
       "      <td>0.0</td>\n",
       "      <td>0.0</td>\n",
       "      <td>0</td>\n",
       "      <td>0</td>\n",
       "      <td>BENIGN</td>\n",
       "    </tr>\n",
       "    <tr>\n",
       "      <th>3</th>\n",
       "      <td>143577</td>\n",
       "      <td>43</td>\n",
       "      <td>55</td>\n",
       "      <td>1301</td>\n",
       "      <td>107289</td>\n",
       "      <td>570</td>\n",
       "      <td>0</td>\n",
       "      <td>30.255814</td>\n",
       "      <td>115.178969</td>\n",
       "      <td>4344</td>\n",
       "      <td>...</td>\n",
       "      <td>20</td>\n",
       "      <td>0.0</td>\n",
       "      <td>0.0</td>\n",
       "      <td>0</td>\n",
       "      <td>0</td>\n",
       "      <td>0.0</td>\n",
       "      <td>0.0</td>\n",
       "      <td>0</td>\n",
       "      <td>0</td>\n",
       "      <td>BENIGN</td>\n",
       "    </tr>\n",
       "    <tr>\n",
       "      <th>4</th>\n",
       "      <td>143745</td>\n",
       "      <td>49</td>\n",
       "      <td>59</td>\n",
       "      <td>1331</td>\n",
       "      <td>110185</td>\n",
       "      <td>570</td>\n",
       "      <td>0</td>\n",
       "      <td>27.163265</td>\n",
       "      <td>108.067176</td>\n",
       "      <td>4344</td>\n",
       "      <td>...</td>\n",
       "      <td>20</td>\n",
       "      <td>0.0</td>\n",
       "      <td>0.0</td>\n",
       "      <td>0</td>\n",
       "      <td>0</td>\n",
       "      <td>0.0</td>\n",
       "      <td>0.0</td>\n",
       "      <td>0</td>\n",
       "      <td>0</td>\n",
       "      <td>BENIGN</td>\n",
       "    </tr>\n",
       "    <tr>\n",
       "      <th>...</th>\n",
       "      <td>...</td>\n",
       "      <td>...</td>\n",
       "      <td>...</td>\n",
       "      <td>...</td>\n",
       "      <td>...</td>\n",
       "      <td>...</td>\n",
       "      <td>...</td>\n",
       "      <td>...</td>\n",
       "      <td>...</td>\n",
       "      <td>...</td>\n",
       "      <td>...</td>\n",
       "      <td>...</td>\n",
       "      <td>...</td>\n",
       "      <td>...</td>\n",
       "      <td>...</td>\n",
       "      <td>...</td>\n",
       "      <td>...</td>\n",
       "      <td>...</td>\n",
       "      <td>...</td>\n",
       "      <td>...</td>\n",
       "      <td>...</td>\n",
       "    </tr>\n",
       "    <tr>\n",
       "      <th>56656</th>\n",
       "      <td>234</td>\n",
       "      <td>2</td>\n",
       "      <td>2</td>\n",
       "      <td>64</td>\n",
       "      <td>232</td>\n",
       "      <td>32</td>\n",
       "      <td>32</td>\n",
       "      <td>32.000000</td>\n",
       "      <td>0.000000</td>\n",
       "      <td>116</td>\n",
       "      <td>...</td>\n",
       "      <td>32</td>\n",
       "      <td>0.0</td>\n",
       "      <td>0.0</td>\n",
       "      <td>0</td>\n",
       "      <td>0</td>\n",
       "      <td>0.0</td>\n",
       "      <td>0.0</td>\n",
       "      <td>0</td>\n",
       "      <td>0</td>\n",
       "      <td>BENIGN</td>\n",
       "    </tr>\n",
       "    <tr>\n",
       "      <th>56657</th>\n",
       "      <td>133288</td>\n",
       "      <td>2</td>\n",
       "      <td>2</td>\n",
       "      <td>94</td>\n",
       "      <td>482</td>\n",
       "      <td>47</td>\n",
       "      <td>47</td>\n",
       "      <td>47.000000</td>\n",
       "      <td>0.000000</td>\n",
       "      <td>241</td>\n",
       "      <td>...</td>\n",
       "      <td>32</td>\n",
       "      <td>0.0</td>\n",
       "      <td>0.0</td>\n",
       "      <td>0</td>\n",
       "      <td>0</td>\n",
       "      <td>0.0</td>\n",
       "      <td>0.0</td>\n",
       "      <td>0</td>\n",
       "      <td>0</td>\n",
       "      <td>BENIGN</td>\n",
       "    </tr>\n",
       "    <tr>\n",
       "      <th>56658</th>\n",
       "      <td>11507694</td>\n",
       "      <td>5</td>\n",
       "      <td>4</td>\n",
       "      <td>450</td>\n",
       "      <td>3525</td>\n",
       "      <td>450</td>\n",
       "      <td>0</td>\n",
       "      <td>90.000000</td>\n",
       "      <td>201.246118</td>\n",
       "      <td>3525</td>\n",
       "      <td>...</td>\n",
       "      <td>32</td>\n",
       "      <td>893.0</td>\n",
       "      <td>0.0</td>\n",
       "      <td>893</td>\n",
       "      <td>893</td>\n",
       "      <td>6503640.0</td>\n",
       "      <td>0.0</td>\n",
       "      <td>6503640</td>\n",
       "      <td>6503640</td>\n",
       "      <td>DoS</td>\n",
       "    </tr>\n",
       "    <tr>\n",
       "      <th>56659</th>\n",
       "      <td>11507707</td>\n",
       "      <td>8</td>\n",
       "      <td>6</td>\n",
       "      <td>416</td>\n",
       "      <td>11632</td>\n",
       "      <td>416</td>\n",
       "      <td>0</td>\n",
       "      <td>52.000000</td>\n",
       "      <td>147.078211</td>\n",
       "      <td>5792</td>\n",
       "      <td>...</td>\n",
       "      <td>32</td>\n",
       "      <td>897.0</td>\n",
       "      <td>0.0</td>\n",
       "      <td>897</td>\n",
       "      <td>897</td>\n",
       "      <td>6503122.0</td>\n",
       "      <td>0.0</td>\n",
       "      <td>6503122</td>\n",
       "      <td>6503122</td>\n",
       "      <td>DoS</td>\n",
       "    </tr>\n",
       "    <tr>\n",
       "      <th>56660</th>\n",
       "      <td>11512204</td>\n",
       "      <td>8</td>\n",
       "      <td>5</td>\n",
       "      <td>326</td>\n",
       "      <td>11632</td>\n",
       "      <td>326</td>\n",
       "      <td>0</td>\n",
       "      <td>40.750000</td>\n",
       "      <td>115.258405</td>\n",
       "      <td>10184</td>\n",
       "      <td>...</td>\n",
       "      <td>32</td>\n",
       "      <td>892.0</td>\n",
       "      <td>0.0</td>\n",
       "      <td>892</td>\n",
       "      <td>892</td>\n",
       "      <td>6507197.0</td>\n",
       "      <td>0.0</td>\n",
       "      <td>6507197</td>\n",
       "      <td>6507197</td>\n",
       "      <td>DoS</td>\n",
       "    </tr>\n",
       "  </tbody>\n",
       "</table>\n",
       "<p>56661 rows × 78 columns</p>\n",
       "</div>"
      ],
      "text/plain": [
       "       Flow Duration  Total Fwd Packets  Total Backward Packets  \\\n",
       "0                  4                  2                       0   \n",
       "1             142377                 46                      62   \n",
       "2             118873                 23                      28   \n",
       "3             143577                 43                      55   \n",
       "4             143745                 49                      59   \n",
       "...              ...                ...                     ...   \n",
       "56656            234                  2                       2   \n",
       "56657         133288                  2                       2   \n",
       "56658       11507694                  5                       4   \n",
       "56659       11507707                  8                       6   \n",
       "56660       11512204                  8                       5   \n",
       "\n",
       "       Total Length of Fwd Packets  Total Length of Bwd Packets  \\\n",
       "0                               37                            0   \n",
       "1                             1325                       105855   \n",
       "2                             1169                        45025   \n",
       "3                             1301                       107289   \n",
       "4                             1331                       110185   \n",
       "...                            ...                          ...   \n",
       "56656                           64                          232   \n",
       "56657                           94                          482   \n",
       "56658                          450                         3525   \n",
       "56659                          416                        11632   \n",
       "56660                          326                        11632   \n",
       "\n",
       "       Fwd Packet Length Max  Fwd Packet Length Min  Fwd Packet Length Mean  \\\n",
       "0                         31                      6               18.500000   \n",
       "1                        570                      0               28.804348   \n",
       "2                        570                      0               50.826087   \n",
       "3                        570                      0               30.255814   \n",
       "4                        570                      0               27.163265   \n",
       "...                      ...                    ...                     ...   \n",
       "56656                     32                     32               32.000000   \n",
       "56657                     47                     47               47.000000   \n",
       "56658                    450                      0               90.000000   \n",
       "56659                    416                      0               52.000000   \n",
       "56660                    326                      0               40.750000   \n",
       "\n",
       "       Fwd Packet Length Std  Bwd Packet Length Max  ...  \\\n",
       "0                  17.677670                      0  ...   \n",
       "1                 111.407285                   4344  ...   \n",
       "2                 156.137367                   2896  ...   \n",
       "3                 115.178969                   4344  ...   \n",
       "4                 108.067176                   4344  ...   \n",
       "...                      ...                    ...  ...   \n",
       "56656               0.000000                    116  ...   \n",
       "56657               0.000000                    241  ...   \n",
       "56658             201.246118                   3525  ...   \n",
       "56659             147.078211                   5792  ...   \n",
       "56660             115.258405                  10184  ...   \n",
       "\n",
       "       min_seg_size_forward  Active Mean  Active Std  Active Max  Active Min  \\\n",
       "0                        20          0.0         0.0           0           0   \n",
       "1                        20          0.0         0.0           0           0   \n",
       "2                        32          0.0         0.0           0           0   \n",
       "3                        20          0.0         0.0           0           0   \n",
       "4                        20          0.0         0.0           0           0   \n",
       "...                     ...          ...         ...         ...         ...   \n",
       "56656                    32          0.0         0.0           0           0   \n",
       "56657                    32          0.0         0.0           0           0   \n",
       "56658                    32        893.0         0.0         893         893   \n",
       "56659                    32        897.0         0.0         897         897   \n",
       "56660                    32        892.0         0.0         892         892   \n",
       "\n",
       "       Idle Mean  Idle Std  Idle Max  Idle Min   Label  \n",
       "0            0.0       0.0         0         0  BENIGN  \n",
       "1            0.0       0.0         0         0  BENIGN  \n",
       "2            0.0       0.0         0         0  BENIGN  \n",
       "3            0.0       0.0         0         0  BENIGN  \n",
       "4            0.0       0.0         0         0  BENIGN  \n",
       "...          ...       ...       ...       ...     ...  \n",
       "56656        0.0       0.0         0         0  BENIGN  \n",
       "56657        0.0       0.0         0         0  BENIGN  \n",
       "56658  6503640.0       0.0   6503640   6503640     DoS  \n",
       "56659  6503122.0       0.0   6503122   6503122     DoS  \n",
       "56660  6507197.0       0.0   6507197   6507197     DoS  \n",
       "\n",
       "[56661 rows x 78 columns]"
      ]
     },
     "execution_count": 4,
     "metadata": {},
     "output_type": "execute_result"
    }
   ],
   "source": [
    "df"
   ]
  },
  {
   "cell_type": "code",
   "execution_count": 5,
   "metadata": {},
   "outputs": [
    {
     "data": {
      "text/plain": [
       "BENIGN          22731\n",
       "DoS             19035\n",
       "PortScan         7946\n",
       "BruteForce       2767\n",
       "WebAttack        2180\n",
       "Bot              1966\n",
       "Infiltration       36\n",
       "Name: Label, dtype: int64"
      ]
     },
     "execution_count": 5,
     "metadata": {},
     "output_type": "execute_result"
    }
   ],
   "source": [
    "df.Label.value_counts()"
   ]
  },
  {
   "cell_type": "markdown",
   "metadata": {},
   "source": [
    "### Data sampling\n",
    "Due to the space limit of GitHub files, we sample a small-sized subset for model learning using random sampling"
   ]
  },
  {
   "cell_type": "code",
   "execution_count": 6,
   "metadata": {},
   "outputs": [],
   "source": [
    "# Randomly sample instances from majority classes\n",
    "df_minor = df[(df['Label']=='WebAttack')|(df['Label']=='Bot')|(df['Label']=='Infiltration')]\n",
    "df_BENIGN = df[(df['Label']=='BENIGN')]\n",
    "df_BENIGN = df_BENIGN.sample(n=None, frac=0.01, replace=False, weights=None, random_state=None, axis=0)\n",
    "df_DoS = df[(df['Label']=='DoS')]\n",
    "df_DoS = df_DoS.sample(n=None, frac=0.05, replace=False, weights=None, random_state=None, axis=0)\n",
    "df_PortScan = df[(df['Label']=='PortScan')]\n",
    "df_PortScan = df_PortScan.sample(n=None, frac=0.05, replace=False, weights=None, random_state=None, axis=0)\n",
    "df_BruteForce = df[(df['Label']=='BruteForce')]\n",
    "df_BruteForce = df_BruteForce.sample(n=None, frac=0.2, replace=False, weights=None, random_state=None, axis=0)"
   ]
  },
  {
   "cell_type": "code",
   "execution_count": 7,
   "metadata": {},
   "outputs": [],
   "source": [
    "df_s = df_BENIGN.append(df_DoS).append(df_PortScan).append(df_BruteForce).append(df_minor)"
   ]
  },
  {
   "cell_type": "code",
   "execution_count": 8,
   "metadata": {},
   "outputs": [],
   "source": [
    "df_s = df_s.sort_index()"
   ]
  },
  {
   "cell_type": "code",
   "execution_count": 9,
   "metadata": {},
   "outputs": [
    {
     "name": "stdout",
     "output_type": "stream",
     "text": [
      "Requirement already satisfied: pandas in c:\\programdata\\anaconda3\\lib\\site-packages (2.2.2)\n",
      "Collecting pandas\n",
      "  Using cached pandas-2.2.3-cp39-cp39-win_amd64.whl (11.6 MB)\n",
      "Requirement already satisfied: tzdata>=2022.7 in c:\\programdata\\anaconda3\\lib\\site-packages (from pandas) (2024.1)\n",
      "Requirement already satisfied: pytz>=2020.1 in c:\\programdata\\anaconda3\\lib\\site-packages (from pandas) (2024.2)\n",
      "Requirement already satisfied: numpy>=1.22.4 in c:\\programdata\\anaconda3\\lib\\site-packages (from pandas) (1.26.4)\n",
      "Requirement already satisfied: python-dateutil>=2.8.2 in c:\\programdata\\anaconda3\\lib\\site-packages (from pandas) (2.9.0.post0)\n",
      "Requirement already satisfied: six>=1.5 in c:\\programdata\\anaconda3\\lib\\site-packages (from python-dateutil>=2.8.2->pandas) (1.16.0)\n",
      "Installing collected packages: pandas\n",
      "  Attempting uninstall: pandas\n",
      "    Found existing installation: pandas 2.2.2\n"
     ]
    },
    {
     "name": "stderr",
     "output_type": "stream",
     "text": [
      "WARNING: Ignoring invalid distribution -rotobuf (c:\\users\\aayus\\appdata\\roaming\\python\\python39\\site-packages)\n",
      "WARNING: Ignoring invalid distribution -rotobuf (c:\\users\\aayus\\appdata\\roaming\\python\\python39\\site-packages)\n",
      "WARNING: Ignoring invalid distribution -rotobuf (c:\\users\\aayus\\appdata\\roaming\\python\\python39\\site-packages)\n",
      "WARNING: Error parsing requirements for pandas: [Errno 2] No such file or directory: 'c:\\\\programdata\\\\anaconda3\\\\lib\\\\site-packages\\\\pandas-2.2.2.dist-info\\\\METADATA'\n",
      "    WARNING: Ignoring invalid distribution -rotobuf (c:\\users\\aayus\\appdata\\roaming\\python\\python39\\site-packages)\n",
      "    WARNING: No metadata found in c:\\programdata\\anaconda3\\lib\\site-packages\n",
      "ERROR: Cannot uninstall pandas 2.2.2, RECORD file not found. You might be able to recover from this via: 'pip install --force-reinstall --no-deps pandas==2.2.2'.\n",
      "WARNING: Ignoring invalid distribution -rotobuf (c:\\users\\aayus\\appdata\\roaming\\python\\python39\\site-packages)\n",
      "WARNING: Ignoring invalid distribution -rotobuf (c:\\users\\aayus\\appdata\\roaming\\python\\python39\\site-packages)\n",
      "WARNING: Ignoring invalid distribution -rotobuf (c:\\users\\aayus\\appdata\\roaming\\python\\python39\\site-packages)\n"
     ]
    },
    {
     "name": "stdout",
     "output_type": "stream",
     "text": [
      "Requirement already satisfied: numpy in c:\\programdata\\anaconda3\\lib\\site-packages (1.26.4)\n",
      "Collecting numpy\n",
      "  Using cached numpy-2.0.2-cp39-cp39-win_amd64.whl (15.9 MB)\n",
      "Requirement already satisfied: scipy in c:\\programdata\\anaconda3\\lib\\site-packages (1.13.1)\n",
      "Requirement already satisfied: dask in c:\\programdata\\anaconda3\\lib\\site-packages (2024.8.0)\n",
      "Requirement already satisfied: toolz>=0.10.0 in c:\\programdata\\anaconda3\\lib\\site-packages (from dask) (0.11.2)\n",
      "Requirement already satisfied: click>=8.1 in c:\\programdata\\anaconda3\\lib\\site-packages (from dask) (8.1.7)\n",
      "Requirement already satisfied: pyyaml>=5.3.1 in c:\\programdata\\anaconda3\\lib\\site-packages (from dask) (6.0.2)\n",
      "Requirement already satisfied: cloudpickle>=1.5.0 in c:\\programdata\\anaconda3\\lib\\site-packages (from dask) (2.0.0)\n",
      "Requirement already satisfied: importlib-metadata>=4.13.0 in c:\\programdata\\anaconda3\\lib\\site-packages (from dask) (8.2.0)\n",
      "Requirement already satisfied: fsspec>=2021.09.0 in c:\\programdata\\anaconda3\\lib\\site-packages (from dask) (2024.9.0)\n",
      "Requirement already satisfied: partd>=1.4.0 in c:\\programdata\\anaconda3\\lib\\site-packages (from dask) (1.4.2)\n",
      "Requirement already satisfied: packaging>=20.0 in c:\\programdata\\anaconda3\\lib\\site-packages (from dask) (24.1)\n",
      "Requirement already satisfied: colorama in c:\\programdata\\anaconda3\\lib\\site-packages (from click>=8.1->dask) (0.4.6)\n",
      "Requirement already satisfied: zipp>=0.5 in c:\\programdata\\anaconda3\\lib\\site-packages (from importlib-metadata>=4.13.0->dask) (3.20.2)\n",
      "Requirement already satisfied: locket in c:\\programdata\\anaconda3\\lib\\site-packages (from partd>=1.4.0->dask) (1.0.0)\n",
      "Installing collected packages: numpy\n",
      "  Attempting uninstall: numpy\n",
      "    Found existing installation: numpy 1.26.4\n",
      "    Uninstalling numpy-1.26.4:\n",
      "      Successfully uninstalled numpy-1.26.4\n"
     ]
    },
    {
     "name": "stderr",
     "output_type": "stream",
     "text": [
      "WARNING: Ignoring invalid distribution -rotobuf (c:\\users\\aayus\\appdata\\roaming\\python\\python39\\site-packages)\n",
      "WARNING: Ignoring invalid distribution -rotobuf (c:\\users\\aayus\\appdata\\roaming\\python\\python39\\site-packages)\n",
      "WARNING: Ignoring invalid distribution -rotobuf (c:\\users\\aayus\\appdata\\roaming\\python\\python39\\site-packages)\n",
      "WARNING: Error parsing requirements for pandas: [Errno 2] No such file or directory: 'c:\\\\programdata\\\\anaconda3\\\\lib\\\\site-packages\\\\pandas-2.2.2.dist-info\\\\METADATA'\n",
      "    WARNING: Ignoring invalid distribution -rotobuf (c:\\users\\aayus\\appdata\\roaming\\python\\python39\\site-packages)\n",
      "ERROR: Could not install packages due to an OSError: [WinError 5] Access is denied: 'C:\\\\Users\\\\aayus\\\\AppData\\\\Local\\\\Temp\\\\pip-uninstall-vqctm5i5\\\\numpy\\\\core\\\\_multiarray_tests.cp39-win_amd64.pyd'\n",
      "Consider using the `--user` option or check the permissions.\n",
      "\n",
      "WARNING: Ignoring invalid distribution -rotobuf (c:\\users\\aayus\\appdata\\roaming\\python\\python39\\site-packages)\n",
      "WARNING: Ignoring invalid distribution -rotobuf (c:\\users\\aayus\\appdata\\roaming\\python\\python39\\site-packages)\n",
      "WARNING: Ignoring invalid distribution -rotobuf (c:\\users\\aayus\\appdata\\roaming\\python\\python39\\site-packages)\n"
     ]
    },
    {
     "name": "stdout",
     "output_type": "stream",
     "text": [
      "Collecting pipdeptree\n",
      "  Using cached pipdeptree-2.23.4-py3-none-any.whl (32 kB)\n",
      "Requirement already satisfied: packaging>=24.1 in c:\\programdata\\anaconda3\\lib\\site-packages (from pipdeptree) (24.1)\n",
      "Collecting pip>=24.2\n",
      "  Using cached pip-24.2-py3-none-any.whl (1.8 MB)\n"
     ]
    },
    {
     "name": "stderr",
     "output_type": "stream",
     "text": [
      "WARNING: Ignoring invalid distribution -rotobuf (c:\\users\\aayus\\appdata\\roaming\\python\\python39\\site-packages)\n",
      "WARNING: Ignoring invalid distribution -umpy (c:\\programdata\\anaconda3\\lib\\site-packages)\n",
      "WARNING: Ignoring invalid distribution -rotobuf (c:\\users\\aayus\\appdata\\roaming\\python\\python39\\site-packages)\n",
      "WARNING: Ignoring invalid distribution -umpy (c:\\programdata\\anaconda3\\lib\\site-packages)\n",
      "ERROR: To modify pip, please run the following command:\n",
      "C:\\ProgramData\\Anaconda3\\python.exe -m pip install pipdeptree\n",
      "WARNING: Ignoring invalid distribution -rotobuf (c:\\users\\aayus\\appdata\\roaming\\python\\python39\\site-packages)\n",
      "WARNING: Ignoring invalid distribution -umpy (c:\\programdata\\anaconda3\\lib\\site-packages)\n",
      "WARNING: Ignoring invalid distribution -rotobuf (c:\\users\\aayus\\appdata\\roaming\\python\\python39\\site-packages)\n",
      "WARNING: Ignoring invalid distribution -umpy (c:\\programdata\\anaconda3\\lib\\site-packages)\n",
      "WARNING: Ignoring invalid distribution -rotobuf (c:\\users\\aayus\\appdata\\roaming\\python\\python39\\site-packages)\n",
      "WARNING: Ignoring invalid distribution -umpy (c:\\programdata\\anaconda3\\lib\\site-packages)\n",
      "'pipdeptree' is not recognized as an internal or external command,\n",
      "operable program or batch file.\n"
     ]
    },
    {
     "name": "stdout",
     "output_type": "stream",
     "text": [
      "Package                         Version\n",
      "------------------------------- --------------------\n",
      "absl-py                         1.4.0\n",
      "alabaster                       0.7.12\n",
      "anaconda-anon-usage             0.4.4\n",
      "anaconda-client                 1.11.0\n",
      "anaconda-navigator              2.4.3\n",
      "anaconda-project                0.11.1\n",
      "anyio                           3.5.0\n",
      "appdirs                         1.4.4\n",
      "argon2-cffi                     21.3.0\n",
      "argon2-cffi-bindings            21.2.0\n",
      "arrow                           1.2.2\n",
      "astroid                         2.11.7\n",
      "astropy                         5.1\n",
      "astunparse                      1.6.3\n",
      "atomicwrites                    1.4.0\n",
      "attrs                           21.4.0\n",
      "Automat                         20.2.0\n",
      "autopep8                        1.6.0\n",
      "Babel                           2.9.1\n",
      "backcall                        0.2.0\n",
      "backports.functools-lru-cache   1.6.4\n",
      "backports.tempfile              1.0\n",
      "backports.weakref               1.0.post1\n",
      "bcrypt                          3.2.0\n",
      "beautifulsoup4                  4.11.1\n",
      "binaryornot                     0.4.4\n",
      "bitarray                        2.5.1\n",
      "bkcharts                        0.2\n",
      "black                           22.6.0\n",
      "bleach                          4.1.0\n",
      "bokeh                           2.4.3\n",
      "boltons                         23.0.0\n",
      "boto3                           1.24.28\n",
      "botocore                        1.27.28\n",
      "Bottleneck                      1.3.5\n",
      "brotlipy                        0.7.0\n",
      "cachetools                      5.3.0\n",
      "catboost                        1.2.5\n",
      "certifi                         2024.8.30\n",
      "cffi                            1.15.1\n",
      "chardet                         4.0.0\n",
      "charset-normalizer              3.3.2\n",
      "click                           8.1.7\n",
      "cloudpickle                     2.0.0\n",
      "clyent                          1.2.2\n",
      "colorama                        0.4.6\n",
      "colorcet                        3.0.0\n",
      "comtypes                        1.1.10\n",
      "conda                           23.3.1\n",
      "conda-build                     3.22.0\n",
      "conda-content-trust             0.1.3\n",
      "conda-pack                      0.6.0\n",
      "conda-package-handling          1.9.0\n",
      "conda-repo-cli                  1.0.20\n",
      "conda-token                     0.4.0\n",
      "conda-verify                    3.4.2\n",
      "constantly                      15.1.0\n",
      "contextlib2                     21.6.0\n",
      "contourpy                       1.3.0\n",
      "cookiecutter                    1.7.3\n",
      "cryptography                    37.0.1\n",
      "cssselect                       1.1.0\n",
      "cycler                          0.12.1\n",
      "Cython                          0.29.32\n",
      "cytoolz                         0.11.0\n",
      "daal4py                         2021.6.0\n",
      "dask                            2024.8.0\n",
      "datashader                      0.14.1\n",
      "datashape                       0.5.4\n",
      "debugpy                         1.5.1\n",
      "decorator                       5.1.1\n",
      "defusedxml                      0.7.1\n",
      "diff-match-patch                20200713\n",
      "dill                            0.3.4\n",
      "distributed                     2022.7.0\n",
      "dm-tree                         0.1.8\n",
      "docutils                        0.18.1\n",
      "entrypoints                     0.4\n",
      "et-xmlfile                      1.1.0\n",
      "fastjsonschema                  2.16.2\n",
      "fcbf                            0.1.2\n",
      "filelock                        3.16.1\n",
      "flake8                          4.0.1\n",
      "Flask                           1.1.2\n",
      "flatbuffers                     23.1.21\n",
      "fonttools                       4.53.1\n",
      "fsspec                          2024.9.0\n",
      "future                          0.18.2\n",
      "gast                            0.4.0\n",
      "gensim                          4.1.2\n",
      "glob2                           0.7\n",
      "google-auth                     2.16.0\n",
      "google-auth-oauthlib            0.4.6\n",
      "google-pasta                    0.2.0\n",
      "graphviz                        0.20.3\n",
      "greenlet                        1.1.1\n",
      "grpcio                          1.51.1\n",
      "h5py                            3.7.0\n",
      "HeapDict                        1.0.1\n",
      "holoviews                       1.15.0\n",
      "hvplot                          0.8.0\n",
      "hyperlink                       21.0.0\n",
      "hyperopt                        0.2.7\n",
      "idna                            3.10\n",
      "imagecodecs                     2021.8.26\n",
      "imageio                         2.19.3\n",
      "imagesize                       1.4.1\n",
      "imbalanced-learn                0.12.3\n",
      "importlib_metadata              8.2.0\n",
      "importlib_resources             6.4.5\n",
      "incremental                     21.3.0\n",
      "inflection                      0.5.1\n",
      "iniconfig                       1.1.1\n",
      "intake                          0.6.5\n",
      "intervaltree                    3.1.0\n",
      "ipykernel                       6.15.2\n",
      "ipython                         7.31.1\n",
      "ipython-genutils                0.2.0\n",
      "ipywidgets                      7.6.5\n",
      "isort                           5.9.3\n",
      "itemadapter                     0.3.0\n",
      "itemloaders                     1.0.4\n",
      "itsdangerous                    2.0.1\n",
      "jdcal                           1.4.1\n",
      "jedi                            0.18.1\n",
      "jellyfish                       0.9.0\n",
      "Jinja2                          3.1.4\n",
      "jinja2-time                     0.2.0\n",
      "jmespath                        0.10.0\n",
      "joblib                          1.4.2\n",
      "json5                           0.9.6\n",
      "jsonpatch                       1.33\n",
      "jsonpointer                     2.1\n",
      "jsonschema                      4.16.0\n",
      "jupyter                         1.0.0\n",
      "jupyter_client                  7.3.4\n",
      "jupyter-console                 6.4.3\n",
      "jupyter_core                    4.11.1\n",
      "jupyter-server                  1.18.1\n",
      "jupyterlab                      3.4.4\n",
      "jupyterlab-pygments             0.1.2\n",
      "jupyterlab-server               2.10.3\n",
      "jupyterlab-widgets              1.0.0\n",
      "keras                           2.11.0\n",
      "keras-tuner                     1.4.7\n",
      "keyring                         23.4.0\n",
      "kiwisolver                      1.4.7\n",
      "kt-legacy                       1.0.5\n",
      "lazy-object-proxy               1.6.0\n",
      "libarchive-c                    2.9\n",
      "libclang                        15.0.6.1\n",
      "lightgbm                        4.5.0\n",
      "llvmlite                        0.38.0\n",
      "locket                          1.0.0\n",
      "lxml                            4.9.1\n",
      "lz4                             3.1.3\n",
      "Markdown                        3.3.4\n",
      "markdown-it-py                  3.0.0\n",
      "MarkupSafe                      2.1.5\n",
      "matplotlib                      3.5.2\n",
      "matplotlib-inline               0.1.6\n",
      "mccabe                          0.6.1\n",
      "mdurl                           0.1.2\n",
      "menuinst                        1.4.19\n",
      "mistune                         0.8.4\n",
      "mkl-fft                         1.3.1\n",
      "mkl-random                      1.2.2\n",
      "mkl-service                     2.4.0\n",
      "mock                            4.0.3\n",
      "mpmath                          1.3.0\n",
      "msgpack                         1.0.3\n",
      "multipledispatch                0.6.0\n",
      "munkres                         1.1.4\n",
      "mypy-extensions                 0.4.3\n",
      "navigator-updater               0.3.0\n",
      "nbclassic                       0.3.5\n",
      "nbclient                        0.5.13\n",
      "nbconvert                       6.4.4\n",
      "nbformat                        5.5.0\n",
      "nest-asyncio                    1.5.5\n",
      "networkx                        3.2.1\n",
      "nh3                             0.2.15\n",
      "nltk                            3.7\n",
      "nose                            1.3.7\n",
      "notebook                        6.4.12\n",
      "numba                           0.55.1\n",
      "numexpr                         2.8.3\n",
      "numpy                           2.0.2\n",
      "numpydoc                        1.4.0\n",
      "oauthlib                        3.2.2\n",
      "object-detection                0.0.3\n",
      "olefile                         0.46\n",
      "opencv-python                   4.10.0.84\n",
      "opencv-python-headless          4.10.0.84\n",
      "openpyxl                        3.0.10\n",
      "opt-einsum                      3.3.0\n",
      "packaging                       24.1\n",
      "pandas                          2.2.2\n",
      "pandocfilters                   1.5.0\n",
      "panel                           0.13.1\n",
      "param                           1.12.0\n",
      "paramiko                        2.8.1\n",
      "parsel                          1.6.0\n",
      "parso                           0.8.3\n",
      "partd                           1.4.2\n",
      "pathlib                         1.0.1\n",
      "pathspec                        0.9.0\n",
      "patsy                           0.5.2\n",
      "pep8                            1.7.1\n",
      "pexpect                         4.8.0\n",
      "pickleshare                     0.7.5\n",
      "pillow                          10.4.0\n",
      "pip                             22.2.2\n",
      "pkginfo                         1.8.2\n",
      "platformdirs                    2.5.2\n",
      "plotly                          5.9.0\n",
      "pluggy                          1.0.0\n",
      "pooch                           1.7.0\n",
      "poyo                            0.5.0\n",
      "prometheus-client               0.14.1\n",
      "prompt-toolkit                  3.0.20\n",
      "Protego                         0.1.16\n",
      "protobuf                        3.20.3\n",
      "psutil                          6.0.0\n",
      "ptyprocess                      0.7.0\n",
      "py                              1.11.0\n",
      "py-cpuinfo                      9.0.0\n",
      "py4j                            0.10.9.7\n",
      "pyaml                           24.7.0\n",
      "pyasn1                          0.4.8\n",
      "pyasn1-modules                  0.2.8\n",
      "pycodestyle                     2.8.0\n",
      "pycosat                         0.6.3\n",
      "pycparser                       2.21\n",
      "pyct                            0.4.8\n",
      "pycurl                          7.45.1\n",
      "PyDispatcher                    2.0.5\n",
      "pydocstyle                      6.1.1\n",
      "pyerfa                          2.0.0\n",
      "pyflakes                        2.4.0\n",
      "Pygments                        2.17.2\n",
      "PyHamcrest                      2.0.2\n",
      "PyJWT                           2.4.0\n",
      "pylint                          2.14.5\n",
      "pyls-spyder                     0.4.0\n",
      "PyNaCl                          1.5.0\n",
      "pyodbc                          4.0.34\n",
      "pyOpenSSL                       22.0.0\n",
      "pyparsing                       3.1.4\n",
      "pyrsistent                      0.18.0\n",
      "PySocks                         1.7.1\n",
      "pytest                          7.1.2\n",
      "python-dateutil                 2.9.0.post0\n",
      "python-editor                   1.0.4\n",
      "python-lsp-black                1.0.0\n",
      "python-lsp-jsonrpc              1.0.0\n",
      "python-lsp-server               1.3.3\n",
      "python-mpv                      0.4.5\n",
      "python-slugify                  5.0.2\n",
      "python-snappy                   0.6.0\n",
      "python-version                  0.0.2\n",
      "pytz                            2024.2\n",
      "pyviz-comms                     2.0.2\n",
      "PyWavelets                      1.3.0\n",
      "pywin32                         302\n",
      "pywin32-ctypes                  0.2.0\n",
      "pywinpty                        2.0.2\n",
      "PyYAML                          6.0.2\n",
      "pyzmq                           23.2.0\n",
      "QDarkStyle                      3.0.2\n",
      "qstylizer                       0.1.10\n",
      "QtAwesome                       1.0.3\n",
      "qtconsole                       5.2.2\n",
      "QtPy                            2.2.0\n",
      "queuelib                        1.5.0\n",
      "readme_renderer                 43.0\n",
      "regex                           2022.7.9\n",
      "requests                        2.32.3\n",
      "requests-file                   1.5.1\n",
      "requests-oauthlib               1.3.1\n",
      "requests-toolbelt               1.0.0\n",
      "rfc3986                         2.0.0\n",
      "rich                            13.7.1\n",
      "river                           0.21.2\n",
      "rope                            0.22.0\n",
      "rsa                             4.9\n",
      "Rtree                           0.9.7\n",
      "ruamel.yaml                     0.17.21\n",
      "ruamel.yaml.clib                0.2.6\n",
      "ruamel-yaml-conda               0.15.100\n",
      "s3transfer                      0.6.0\n",
      "scikit-image                    0.19.2\n",
      "scikit-learn                    1.5.1\n",
      "scikit-learn-intelex            2021.20221004.171935\n",
      "scikit-optimize                 0.10.2\n",
      "scipy                           1.13.1\n",
      "Scrapy                          2.6.2\n",
      "seaborn                         0.11.2\n",
      "Send2Trash                      1.8.0\n",
      "service-identity                18.1.0\n",
      "setuptools                      63.4.1\n",
      "sip                             4.19.13\n",
      "six                             1.16.0\n",
      "smart-open                      5.2.1\n",
      "sniffio                         1.2.0\n",
      "snowballstemmer                 2.2.0\n",
      "sortedcollections               2.1.0\n",
      "sortedcontainers                2.4.0\n",
      "soupsieve                       2.3.1\n",
      "Sphinx                          5.0.2\n",
      "sphinxcontrib-applehelp         1.0.2\n",
      "sphinxcontrib-devhelp           1.0.2\n",
      "sphinxcontrib-htmlhelp          2.0.0\n",
      "sphinxcontrib-jsmath            1.0.1\n",
      "sphinxcontrib-qthelp            1.0.3\n",
      "sphinxcontrib-serializinghtml   1.1.5\n",
      "spyder                          5.2.2\n",
      "spyder-kernels                  2.2.1\n",
      "SQLAlchemy                      1.4.39\n",
      "statsmodels                     0.13.2\n",
      "sympy                           1.13.3\n",
      "tables                          3.6.1\n",
      "tabulate                        0.8.10\n",
      "TBB                             0.2\n",
      "tblib                           1.7.0\n",
      "tenacity                        8.0.1\n",
      "tensorboard                     2.11.2\n",
      "tensorboard-data-server         0.6.1\n",
      "tensorboard-plugin-wit          1.8.1\n",
      "tensorflow                      2.11.0\n",
      "tensorflow-estimator            2.11.0\n",
      "tensorflow-intel                2.11.0\n",
      "tensorflow-io-gcs-filesystem    0.30.0\n",
      "tensorflow-object-detection-api 0.1.1\n",
      "termcolor                       2.2.0\n",
      "terminado                       0.13.1\n",
      "testpath                        0.6.0\n",
      "text-unidecode                  1.3\n",
      "textdistance                    4.2.1\n",
      "threadpoolctl                   3.5.0\n",
      "three-merge                     0.1.1\n",
      "tifffile                        2021.7.2\n",
      "tinycss                         0.4\n",
      "tldextract                      3.2.0\n",
      "toml                            0.10.2\n",
      "tomli                           2.0.1\n",
      "tomlkit                         0.11.1\n",
      "toolz                           0.11.2\n",
      "torch                           2.4.1\n",
      "tornado                         6.1\n",
      "tqdm                            4.66.5\n",
      "traitlets                       5.1.1\n",
      "twine                           5.0.0\n",
      "Twisted                         22.2.0\n",
      "twisted-iocpsupport             1.0.2\n",
      "typing_extensions               4.12.2\n",
      "tzdata                          2024.1\n",
      "ujson                           5.4.0\n",
      "Unidecode                       1.2.0\n",
      "urllib3                         2.2.3\n",
      "vboxapi                         1.0\n",
      "w3lib                           1.21.0\n",
      "watchdog                        2.1.6\n",
      "wcwidth                         0.2.5\n",
      "webencodings                    0.5.1\n",
      "websocket-client                0.58.0\n",
      "Werkzeug                        2.0.3\n",
      "wheel                           0.37.1\n",
      "widgetsnbextension              3.5.2\n",
      "win-inet-pton                   1.1.0\n",
      "win-unicode-console             0.5\n",
      "wincertstore                    0.2\n",
      "wrapt                           1.14.1\n",
      "xarray                          0.20.1\n",
      "xgboost                         2.1.1\n",
      "xlrd                            2.0.1\n",
      "XlsxWriter                      3.0.3\n",
      "xlwings                         0.27.15\n",
      "yapf                            0.31.0\n",
      "zict                            2.1.0\n",
      "zipp                            3.20.2\n",
      "zope.interface                  5.4.0\n"
     ]
    },
    {
     "name": "stderr",
     "output_type": "stream",
     "text": [
      "WARNING: Ignoring invalid distribution -rotobuf (c:\\users\\aayus\\appdata\\roaming\\python\\python39\\site-packages)\n",
      "WARNING: Ignoring invalid distribution -umpy (c:\\programdata\\anaconda3\\lib\\site-packages)\n",
      "WARNING: No metadata found in c:\\programdata\\anaconda3\\lib\\site-packages\n",
      "WARNING: No metadata found in c:\\programdata\\anaconda3\\lib\\site-packages\n",
      "WARNING: Ignoring invalid distribution -rotobuf (c:\\users\\aayus\\appdata\\roaming\\python\\python39\\site-packages)\n",
      "WARNING: Ignoring invalid distribution -umpy (c:\\programdata\\anaconda3\\lib\\site-packages)\n",
      "WARNING: Ignoring invalid distribution -rotobuf (c:\\users\\aayus\\appdata\\roaming\\python\\python39\\site-packages)\n",
      "WARNING: Ignoring invalid distribution -umpy (c:\\programdata\\anaconda3\\lib\\site-packages)\n",
      "WARNING: Ignoring invalid distribution -rotobuf (c:\\users\\aayus\\appdata\\roaming\\python\\python39\\site-packages)\n",
      "WARNING: Ignoring invalid distribution -umpy (c:\\programdata\\anaconda3\\lib\\site-packages)\n"
     ]
    },
    {
     "name": "stdout",
     "output_type": "stream",
     "text": [
      "Requirement already satisfied: pandas in c:\\programdata\\anaconda3\\lib\\site-packages (2.2.2)\n"
     ]
    },
    {
     "name": "stderr",
     "output_type": "stream",
     "text": [
      "WARNING: Ignoring invalid distribution -rotobuf (c:\\users\\aayus\\appdata\\roaming\\python\\python39\\site-packages)\n",
      "WARNING: Ignoring invalid distribution -umpy (c:\\programdata\\anaconda3\\lib\\site-packages)\n",
      "WARNING: Ignoring invalid distribution -rotobuf (c:\\users\\aayus\\appdata\\roaming\\python\\python39\\site-packages)\n",
      "WARNING: Ignoring invalid distribution -umpy (c:\\programdata\\anaconda3\\lib\\site-packages)\n",
      "ERROR: Could not install packages due to an OSError: [Errno 2] No such file or directory: 'c:\\\\programdata\\\\anaconda3\\\\lib\\\\site-packages\\\\pandas-2.2.2.dist-info\\\\METADATA'\n",
      "\n",
      "WARNING: Ignoring invalid distribution -rotobuf (c:\\users\\aayus\\appdata\\roaming\\python\\python39\\site-packages)\n",
      "WARNING: Ignoring invalid distribution -umpy (c:\\programdata\\anaconda3\\lib\\site-packages)\n",
      "WARNING: Ignoring invalid distribution -rotobuf (c:\\users\\aayus\\appdata\\roaming\\python\\python39\\site-packages)\n",
      "WARNING: Ignoring invalid distribution -umpy (c:\\programdata\\anaconda3\\lib\\site-packages)\n",
      "WARNING: Ignoring invalid distribution -rotobuf (c:\\users\\aayus\\appdata\\roaming\\python\\python39\\site-packages)\n",
      "WARNING: Ignoring invalid distribution -umpy (c:\\programdata\\anaconda3\\lib\\site-packages)\n"
     ]
    },
    {
     "name": "stdout",
     "output_type": "stream",
     "text": [
      "Found existing installation: pandas 2.2.2\n"
     ]
    },
    {
     "name": "stderr",
     "output_type": "stream",
     "text": [
      "WARNING: Ignoring invalid distribution -rotobuf (c:\\users\\aayus\\appdata\\roaming\\python\\python39\\site-packages)\n",
      "WARNING: Ignoring invalid distribution -umpy (c:\\programdata\\anaconda3\\lib\\site-packages)\n",
      "WARNING: Ignoring invalid distribution -rotobuf (c:\\users\\aayus\\appdata\\roaming\\python\\python39\\site-packages)\n",
      "WARNING: Ignoring invalid distribution -umpy (c:\\programdata\\anaconda3\\lib\\site-packages)\n",
      "WARNING: No metadata found in c:\\programdata\\anaconda3\\lib\\site-packages\n",
      "ERROR: Cannot uninstall pandas 2.2.2, RECORD file not found. You might be able to recover from this via: 'pip install --force-reinstall --no-deps pandas==2.2.2'.\n",
      "WARNING: Ignoring invalid distribution -rotobuf (c:\\users\\aayus\\appdata\\roaming\\python\\python39\\site-packages)\n",
      "WARNING: Ignoring invalid distribution -umpy (c:\\programdata\\anaconda3\\lib\\site-packages)\n",
      "ERROR: Invalid requirement: '#'\n",
      "WARNING: Ignoring invalid distribution -rotobuf (c:\\users\\aayus\\appdata\\roaming\\python\\python39\\site-packages)\n",
      "WARNING: Ignoring invalid distribution -umpy (c:\\programdata\\anaconda3\\lib\\site-packages)\n",
      "WARNING: Ignoring invalid distribution -rotobuf (c:\\users\\aayus\\appdata\\roaming\\python\\python39\\site-packages)\n",
      "WARNING: Ignoring invalid distribution -umpy (c:\\programdata\\anaconda3\\lib\\site-packages)\n",
      "WARNING: Ignoring invalid distribution -rotobuf (c:\\users\\aayus\\appdata\\roaming\\python\\python39\\site-packages)\n",
      "WARNING: Ignoring invalid distribution -umpy (c:\\programdata\\anaconda3\\lib\\site-packages)\n"
     ]
    }
   ],
   "source": [
    "# Save the sampled dataset\n",
    "!pip install --upgrade pandas\n",
    "!pip install --upgrade numpy scipy dask\n",
    "!pip install pipdeptree\n",
    "!pipdeptree\n",
    "\n",
    "!pip list\n",
    "!pip install pandas\n",
    "!pip uninstall pandas -y\n",
    "!pip install pandas==2.2.0  # or another stable version like 2.1.0 or 2.0.3\n",
    "\n",
    "df_s.to_csv('C:\\\\Users\\\\aayus\\\\Documents\\\\Brahmastra\\\\Intrusion-Detection-System-Using-Machine-Learning-main\\\\data\\\\CICIDS2017_sample.csv',index=0)"
   ]
  },
  {
   "cell_type": "markdown",
   "metadata": {},
   "source": [
    "### Preprocessing (normalization and padding values)"
   ]
  },
  {
   "cell_type": "code",
   "execution_count": 10,
   "metadata": {},
   "outputs": [],
   "source": [
    "df = pd.read_csv('C:\\\\Users\\\\aayus\\\\Documents\\\\Brahmastra\\\\Intrusion-Detection-System-Using-Machine-Learning-main\\\\data\\\\CICIDS2017_sample.csv')"
   ]
  },
  {
   "cell_type": "code",
   "execution_count": 11,
   "metadata": {},
   "outputs": [],
   "source": [
    "# Min-max normalization\n",
    "numeric_features = df.dtypes[df.dtypes != 'object'].index\n",
    "df[numeric_features] = df[numeric_features].apply(\n",
    "    lambda x: (x - x.min()) / (x.max()-x.min()))\n",
    "# Fill empty values by 0\n",
    "df = df.fillna(0)"
   ]
  },
  {
   "cell_type": "markdown",
   "metadata": {},
   "source": [
    "### split train set and test set"
   ]
  },
  {
   "cell_type": "code",
   "execution_count": 12,
   "metadata": {},
   "outputs": [],
   "source": [
    "labelencoder = LabelEncoder()\n",
    "df.iloc[:, -1] = labelencoder.fit_transform(df.iloc[:, -1])\n",
    "X = df.drop(['Label'],axis=1).values \n",
    "y = df.iloc[:, -1].values.reshape(-1,1)\n",
    "y=np.ravel(y)\n",
    "X_train, X_test, y_train, y_test = train_test_split(X,y, train_size = 0.8, test_size = 0.2, random_state = 0,stratify = y)"
   ]
  },
  {
   "cell_type": "code",
   "execution_count": 13,
   "metadata": {},
   "outputs": [
    {
     "data": {
      "text/plain": [
       "(5048, 77)"
      ]
     },
     "execution_count": 13,
     "metadata": {},
     "output_type": "execute_result"
    }
   ],
   "source": [
    "X_train.shape"
   ]
  },
  {
   "cell_type": "code",
   "execution_count": 14,
   "metadata": {},
   "outputs": [
    {
     "data": {
      "text/plain": [
       "6    1744\n",
       "1    1573\n",
       "3     761\n",
       "2     442\n",
       "5     317\n",
       "0     182\n",
       "4      29\n",
       "dtype: int64"
      ]
     },
     "execution_count": 14,
     "metadata": {},
     "output_type": "execute_result"
    }
   ],
   "source": [
    "pd.Series(y_train).value_counts()"
   ]
  },
  {
   "cell_type": "markdown",
   "metadata": {},
   "source": [
    "### Oversampling by SMOTE"
   ]
  },
  {
   "cell_type": "code",
   "execution_count": 15,
   "metadata": {},
   "outputs": [],
   "source": [
    "from imblearn.over_sampling import SMOTE\n",
    "smote=SMOTE(n_jobs=-1,sampling_strategy={4:1500}) # Create 1500 samples for the minority class \"4\""
   ]
  },
  {
   "cell_type": "code",
   "execution_count": 16,
   "metadata": {},
   "outputs": [],
   "source": [
    "X_train, y_train = smote.fit_resample(X_train, y_train)"
   ]
  },
  {
   "cell_type": "code",
   "execution_count": 17,
   "metadata": {
    "scrolled": true
   },
   "outputs": [
    {
     "data": {
      "text/plain": [
       "6    1744\n",
       "1    1573\n",
       "4    1500\n",
       "3     761\n",
       "2     442\n",
       "5     317\n",
       "0     182\n",
       "dtype: int64"
      ]
     },
     "execution_count": 17,
     "metadata": {},
     "output_type": "execute_result"
    }
   ],
   "source": [
    "pd.Series(y_train).value_counts()"
   ]
  },
  {
   "cell_type": "markdown",
   "metadata": {
    "collapsed": true
   },
   "source": [
    "## Machine learning model training"
   ]
  },
  {
   "cell_type": "markdown",
   "metadata": {},
   "source": [
    "### Training four base learners: decision tree, random forest, extra trees, XGBoost"
   ]
  },
  {
   "cell_type": "code",
   "execution_count": 18,
   "metadata": {},
   "outputs": [
    {
     "name": "stdout",
     "output_type": "stream",
     "text": [
      "Accuracy of DT: 0.9841646872525732\n",
      "Precision of DT: 0.9846033152491303\n",
      "Recall of DT: 0.9841646872525732\n",
      "F1-score of DT: 0.9843463549991028\n",
      "              precision    recall  f1-score   support\n",
      "\n",
      "           0       0.81      0.87      0.84        45\n",
      "           1       1.00      0.99      1.00       393\n",
      "           2       0.99      0.98      0.99       111\n",
      "           3       0.98      0.98      0.98       191\n",
      "           4       0.71      0.71      0.71         7\n",
      "           5       0.99      1.00      0.99        80\n",
      "           6       1.00      0.99      0.99       436\n",
      "\n",
      "    accuracy                           0.98      1263\n",
      "   macro avg       0.93      0.93      0.93      1263\n",
      "weighted avg       0.98      0.98      0.98      1263\n",
      "\n"
     ]
    },
    {
     "data": {
      "image/png": "[encoded data removed]",
      "text/plain": [
       "<Figure size 500x500 with 2 Axes>"
      ]
     },
     "metadata": {},
     "output_type": "display_data"
    }
   ],
   "source": [
    "# Decision tree training and prediction\n",
    "dt = DecisionTreeClassifier(random_state = 0)\n",
    "dt.fit(X_train,y_train) \n",
    "dt_score=dt.score(X_test,y_test)\n",
    "y_predict=dt.predict(X_test)\n",
    "y_true=y_test\n",
    "print('Accuracy of DT: '+ str(dt_score))\n",
    "precision,recall,fscore,none= precision_recall_fscore_support(y_true, y_predict, average='weighted') \n",
    "print('Precision of DT: '+(str(precision)))\n",
    "print('Recall of DT: '+(str(recall)))\n",
    "print('F1-score of DT: '+(str(fscore)))\n",
    "print(classification_report(y_true,y_predict))\n",
    "cm=confusion_matrix(y_true,y_predict)\n",
    "f,ax=plt.subplots(figsize=(5,5))\n",
    "sns.heatmap(cm,annot=True,linewidth=0.5,linecolor=\"red\",fmt=\".0f\",ax=ax)\n",
    "plt.xlabel(\"y_pred\")\n",
    "plt.ylabel(\"y_true\")\n",
    "plt.show()"
   ]
  },
  {
   "cell_type": "code",
   "execution_count": 19,
   "metadata": {},
   "outputs": [],
   "source": [
    "dt_train=dt.predict(X_train)\n",
    "dt_test=dt.predict(X_test)"
   ]
  },
  {
   "cell_type": "code",
   "execution_count": 20,
   "metadata": {},
   "outputs": [
    {
     "name": "stdout",
     "output_type": "stream",
     "text": [
      "Accuracy of RF: 0.9873317498020586\n",
      "Precision of RF: 0.9877374075051564\n",
      "Recall of RF: 0.9873317498020586\n",
      "F1-score of RF: 0.987366442986679\n",
      "              precision    recall  f1-score   support\n",
      "\n",
      "           0       0.83      0.89      0.86        45\n",
      "           1       0.99      0.99      0.99       393\n",
      "           2       0.98      0.98      0.98       111\n",
      "           3       0.98      0.98      0.98       191\n",
      "           4       1.00      0.71      0.83         7\n",
      "           5       0.99      1.00      0.99        80\n",
      "           6       1.00      1.00      1.00       436\n",
      "\n",
      "    accuracy                           0.99      1263\n",
      "   macro avg       0.97      0.94      0.95      1263\n",
      "weighted avg       0.99      0.99      0.99      1263\n",
      "\n"
     ]
    },
    {
     "data": {
      "image/png": "[encoded data removed]",
      "text/plain": [
       "<Figure size 500x500 with 2 Axes>"
      ]
     },
     "metadata": {},
     "output_type": "display_data"
    }
   ],
   "source": [
    "# Random Forest training and prediction\n",
    "rf = RandomForestClassifier(random_state = 0)\n",
    "rf.fit(X_train,y_train) \n",
    "rf_score=rf.score(X_test,y_test)\n",
    "y_predict=rf.predict(X_test)\n",
    "y_true=y_test\n",
    "print('Accuracy of RF: '+ str(rf_score))\n",
    "precision,recall,fscore,none= precision_recall_fscore_support(y_true, y_predict, average='weighted') \n",
    "print('Precision of RF: '+(str(precision)))\n",
    "print('Recall of RF: '+(str(recall)))\n",
    "print('F1-score of RF: '+(str(fscore)))\n",
    "print(classification_report(y_true,y_predict))\n",
    "cm=confusion_matrix(y_true,y_predict)\n",
    "f,ax=plt.subplots(figsize=(5,5))\n",
    "sns.heatmap(cm,annot=True,linewidth=0.5,linecolor=\"red\",fmt=\".0f\",ax=ax)\n",
    "plt.xlabel(\"y_pred\")\n",
    "plt.ylabel(\"y_true\")\n",
    "plt.show()"
   ]
  },
  {
   "cell_type": "code",
   "execution_count": 21,
   "metadata": {},
   "outputs": [],
   "source": [
    "rf_train=rf.predict(X_train)\n",
    "rf_test=rf.predict(X_test)"
   ]
  },
  {
   "cell_type": "code",
   "execution_count": 22,
   "metadata": {},
   "outputs": [
    {
     "name": "stdout",
     "output_type": "stream",
     "text": [
      "Accuracy of ET: 0.9881235154394299\n",
      "Precision of ET: 0.9882449626886508\n",
      "Recall of ET: 0.9881235154394299\n",
      "F1-score of ET: 0.9880397947544486\n",
      "              precision    recall  f1-score   support\n",
      "\n",
      "           0       0.87      0.89      0.88        45\n",
      "           1       0.99      0.99      0.99       393\n",
      "           2       0.98      0.97      0.98       111\n",
      "           3       0.98      0.99      0.99       191\n",
      "           4       1.00      0.71      0.83         7\n",
      "           5       0.99      1.00      0.99        80\n",
      "           6       1.00      1.00      1.00       436\n",
      "\n",
      "    accuracy                           0.99      1263\n",
      "   macro avg       0.97      0.94      0.95      1263\n",
      "weighted avg       0.99      0.99      0.99      1263\n",
      "\n"
     ]
    },
    {
     "data": {
      "image/png": "[encoded data removed]",
      "text/plain": [
       "<Figure size 500x500 with 2 Axes>"
      ]
     },
     "metadata": {},
     "output_type": "display_data"
    }
   ],
   "source": [
    "# Extra trees training and prediction\n",
    "et = ExtraTreesClassifier(random_state = 0)\n",
    "et.fit(X_train,y_train) \n",
    "et_score=et.score(X_test,y_test)\n",
    "y_predict=et.predict(X_test)\n",
    "y_true=y_test\n",
    "print('Accuracy of ET: '+ str(et_score))\n",
    "precision,recall,fscore,none= precision_recall_fscore_support(y_true, y_predict, average='weighted') \n",
    "print('Precision of ET: '+(str(precision)))\n",
    "print('Recall of ET: '+(str(recall)))\n",
    "print('F1-score of ET: '+(str(fscore)))\n",
    "print(classification_report(y_true,y_predict))\n",
    "cm=confusion_matrix(y_true,y_predict)\n",
    "f,ax=plt.subplots(figsize=(5,5))\n",
    "sns.heatmap(cm,annot=True,linewidth=0.5,linecolor=\"red\",fmt=\".0f\",ax=ax)\n",
    "plt.xlabel(\"y_pred\")\n",
    "plt.ylabel(\"y_true\")\n",
    "plt.show()"
   ]
  },
  {
   "cell_type": "code",
   "execution_count": 23,
   "metadata": {},
   "outputs": [],
   "source": [
    "et_train=et.predict(X_train)\n",
    "et_test=et.predict(X_test)"
   ]
  },
  {
   "cell_type": "code",
   "execution_count": 24,
   "metadata": {},
   "outputs": [
    {
     "name": "stdout",
     "output_type": "stream",
     "text": [
      "Accuracy of XGBoost: 0.9873317498020586\n",
      "Precision of XGBoost: 0.9872747671890924\n",
      "Recall of XGBoost: 0.9873317498020586\n",
      "F1-score of XGBoost: 0.9871749924379144\n",
      "              precision    recall  f1-score   support\n",
      "\n",
      "           0       0.90      0.80      0.85        45\n",
      "           1       0.99      0.99      0.99       393\n",
      "           2       0.99      0.99      0.99       111\n",
      "           3       0.99      1.00      0.99       191\n",
      "           4       0.62      0.71      0.67         7\n",
      "           5       0.98      0.99      0.98        80\n",
      "           6       1.00      1.00      1.00       436\n",
      "\n",
      "    accuracy                           0.99      1263\n",
      "   macro avg       0.92      0.93      0.92      1263\n",
      "weighted avg       0.99      0.99      0.99      1263\n",
      "\n"
     ]
    },
    {
     "data": {
      "image/png": "[encoded data removed]",
      "text/plain": [
       "<Figure size 500x500 with 2 Axes>"
      ]
     },
     "metadata": {},
     "output_type": "display_data"
    }
   ],
   "source": [
    "# XGboost training and prediction\n",
    "xg = xgb.XGBClassifier(n_estimators = 10)\n",
    "xg.fit(X_train,y_train)\n",
    "xg_score=xg.score(X_test,y_test)\n",
    "y_predict=xg.predict(X_test)\n",
    "y_true=y_test\n",
    "print('Accuracy of XGBoost: '+ str(xg_score))\n",
    "precision,recall,fscore,none= precision_recall_fscore_support(y_true, y_predict, average='weighted') \n",
    "print('Precision of XGBoost: '+(str(precision)))\n",
    "print('Recall of XGBoost: '+(str(recall)))\n",
    "print('F1-score of XGBoost: '+(str(fscore)))\n",
    "print(classification_report(y_true,y_predict))\n",
    "cm=confusion_matrix(y_true,y_predict)\n",
    "f,ax=plt.subplots(figsize=(5,5))\n",
    "sns.heatmap(cm,annot=True,linewidth=0.5,linecolor=\"red\",fmt=\".0f\",ax=ax)\n",
    "plt.xlabel(\"y_pred\")\n",
    "plt.ylabel(\"y_true\")\n",
    "plt.show()"
   ]
  },
  {
   "cell_type": "code",
   "execution_count": 25,
   "metadata": {},
   "outputs": [],
   "source": [
    "xg_train=xg.predict(X_train)\n",
    "xg_test=xg.predict(X_test)"
   ]
  },
  {
   "cell_type": "markdown",
   "metadata": {
    "collapsed": true
   },
   "source": [
    "### Stacking model construction (ensemble for 4 base learners)"
   ]
  },
  {
   "cell_type": "code",
   "execution_count": 26,
   "metadata": {
    "scrolled": false
   },
   "outputs": [
    {
     "name": "stdout",
     "output_type": "stream",
     "text": [
      "   DecisionTree  RandomForest  ExtraTrees  XgBoost\n",
      "0             1             1           1        1\n",
      "1             6             6           6        6\n",
      "2             3             3           3        3\n",
      "3             6             6           6        6\n",
      "4             2             2           2        2\n"
     ]
    }
   ],
   "source": [
    "# Import necessary libraries\n",
    "import pandas as pd\n",
    "import numpy as np\n",
    "\n",
    "# Sample data (make sure these variables are already defined in your code)\n",
    "# dt_train, rf_train, et_train, xg_train should be numpy arrays or similar\n",
    "\n",
    "# Create a DataFrame with predictions from different models\n",
    "base_predictions_train = pd.DataFrame({\n",
    "    'DecisionTree': np.ravel(dt_train),\n",
    "    'RandomForest': np.ravel(rf_train),\n",
    "    'ExtraTrees': np.ravel(et_train),\n",
    "    'XgBoost': np.ravel(xg_train),\n",
    "})\n",
    "\n",
    "# Display the first 5 rows of the DataFrame\n",
    "print(base_predictions_train.head(5))\n"
   ]
  },
  {
   "cell_type": "code",
   "execution_count": 27,
   "metadata": {},
   "outputs": [],
   "source": [
    "dt_train=dt_train.reshape(-1, 1)\n",
    "et_train=et_train.reshape(-1, 1)\n",
    "rf_train=rf_train.reshape(-1, 1)\n",
    "xg_train=xg_train.reshape(-1, 1)\n",
    "dt_test=dt_test.reshape(-1, 1)\n",
    "et_test=et_test.reshape(-1, 1)\n",
    "rf_test=rf_test.reshape(-1, 1)\n",
    "xg_test=xg_test.reshape(-1, 1)"
   ]
  },
  {
   "cell_type": "code",
   "execution_count": 28,
   "metadata": {},
   "outputs": [],
   "source": [
    "x_train = np.concatenate(( dt_train, et_train, rf_train, xg_train), axis=1)\n",
    "x_test = np.concatenate(( dt_test, et_test, rf_test, xg_test), axis=1)"
   ]
  },
  {
   "cell_type": "code",
   "execution_count": 29,
   "metadata": {},
   "outputs": [],
   "source": [
    "stk = xgb.XGBClassifier().fit(x_train, y_train)"
   ]
  },
  {
   "cell_type": "code",
   "execution_count": 30,
   "metadata": {},
   "outputs": [
    {
     "name": "stdout",
     "output_type": "stream",
     "text": [
      "Accuracy of Stacking: 0.9833729216152018\n",
      "Precision of Stacking: 0.9841169582205412\n",
      "Recall of Stacking: 0.9833729216152018\n",
      "F1-score of Stacking: 0.9836706951569152\n",
      "              precision    recall  f1-score   support\n",
      "\n",
      "           0       0.81      0.87      0.84        45\n",
      "           1       0.99      0.99      0.99       393\n",
      "           2       1.00      0.97      0.99       111\n",
      "           3       0.99      0.98      0.98       191\n",
      "           4       0.62      0.71      0.67         7\n",
      "           5       0.99      1.00      0.99        80\n",
      "           6       1.00      0.99      0.99       436\n",
      "\n",
      "    accuracy                           0.98      1263\n",
      "   macro avg       0.91      0.93      0.92      1263\n",
      "weighted avg       0.98      0.98      0.98      1263\n",
      "\n"
     ]
    },
    {
     "data": {
      "image/png": "[encoded data removed]",
      "text/plain": [
       "<Figure size 500x500 with 2 Axes>"
      ]
     },
     "metadata": {},
     "output_type": "display_data"
    }
   ],
   "source": [
    "y_predict=stk.predict(x_test)\n",
    "y_true=y_test\n",
    "stk_score=accuracy_score(y_true,y_predict)\n",
    "print('Accuracy of Stacking: '+ str(stk_score))\n",
    "precision,recall,fscore,none= precision_recall_fscore_support(y_true, y_predict, average='weighted') \n",
    "print('Precision of Stacking: '+(str(precision)))\n",
    "print('Recall of Stacking: '+(str(recall)))\n",
    "print('F1-score of Stacking: '+(str(fscore)))\n",
    "print(classification_report(y_true,y_predict))\n",
    "cm=confusion_matrix(y_true,y_predict)\n",
    "f,ax=plt.subplots(figsize=(5,5))\n",
    "sns.heatmap(cm,annot=True,linewidth=0.5,linecolor=\"red\",fmt=\".0f\",ax=ax)\n",
    "plt.xlabel(\"y_pred\")\n",
    "plt.ylabel(\"y_true\")\n",
    "plt.show()"
   ]
  },
  {
   "cell_type": "markdown",
   "metadata": {},
   "source": [
    "## Feature Selection"
   ]
  },
  {
   "cell_type": "markdown",
   "metadata": {},
   "source": [
    "### Feature importance"
   ]
  },
  {
   "cell_type": "code",
   "execution_count": 31,
   "metadata": {},
   "outputs": [],
   "source": [
    "# Save the feature importance lists generated by four tree-based algorithms\n",
    "dt_feature = dt.feature_importances_\n",
    "rf_feature = rf.feature_importances_\n",
    "et_feature = et.feature_importances_\n",
    "xgb_feature = xg.feature_importances_"
   ]
  },
  {
   "cell_type": "code",
   "execution_count": 32,
   "metadata": {},
   "outputs": [],
   "source": [
    "# calculate the average importance value of each feature\n",
    "avg_feature = (dt_feature + rf_feature + et_feature + xgb_feature)/4"
   ]
  },
  {
   "cell_type": "code",
   "execution_count": 33,
   "metadata": {},
   "outputs": [
    {
     "name": "stdout",
     "output_type": "stream",
     "text": [
      "Features sorted by their score:\n",
      "[(0.1127, 'Init_Win_bytes_backward'), (0.1015, 'Fwd Packet Length Max'), (0.0792, 'Max Packet Length'), (0.0747, 'min_seg_size_forward'), (0.0614, 'Flow IAT Max'), (0.0366, 'Init_Win_bytes_forward'), (0.0263, 'Packet Length Mean'), (0.0219, 'Bwd Packet Length Min'), (0.0218, 'Flow Duration'), (0.0215, 'Bwd Packets/s'), (0.0207, 'Flow IAT Std'), (0.0186, 'Total Length of Fwd Packets'), (0.0185, 'Avg Bwd Segment Size'), (0.0182, 'Bwd Packet Length Std'), (0.0167, 'Average Packet Size'), (0.0154, 'Flow IAT Mean'), (0.0153, 'PSH Flag Count'), (0.0131, 'Total Backward Packets'), (0.013, 'Bwd Packet Length Mean'), (0.0125, 'Fwd IAT Total'), (0.0118, 'Fwd Header Length'), (0.0116, 'Bwd Packet Length Max'), (0.0114, 'Bwd IAT Total'), (0.0113, 'Fwd Packet Length Std'), (0.0109, 'Fwd PSH Flags'), (0.0106, 'Fwd IAT Max'), (0.0103, 'Active Max'), (0.01, 'Subflow Bwd Packets'), (0.01, 'Fwd IAT Std'), (0.01, 'Bwd IAT Std'), (0.0099, 'Total Length of Bwd Packets'), (0.0099, 'Fwd Packet Length Mean'), (0.0097, 'Subflow Fwd Packets'), (0.0094, 'ACK Flag Count'), (0.0082, 'URG Flag Count'), (0.0076, 'act_data_pkt_fwd'), (0.0076, 'Avg Fwd Segment Size'), (0.0069, 'Total Fwd Packets'), (0.0068, 'Packet Length Std'), (0.0065, 'SYN Flag Count'), (0.0061, 'Subflow Fwd Bytes'), (0.0059, 'Min Packet Length'), (0.0059, 'Fwd Header Length.1'), (0.0058, 'Bwd Header Length'), (0.0056, 'Down/Up Ratio'), (0.0053, 'Packet Length Variance'), (0.0047, 'Fwd Packet Length Min'), (0.0046, 'Fwd IAT Min'), (0.0045, 'Bwd IAT Min'), (0.0043, 'Active Mean'), (0.0042, 'Fwd IAT Mean'), (0.0039, 'Subflow Bwd Bytes'), (0.0037, 'Active Min'), (0.0036, 'Idle Max'), (0.0035, 'Idle Mean'), (0.0033, 'Idle Min'), (0.0033, 'Fwd Packets/s'), (0.0032, 'Bwd IAT Max'), (0.0029, 'Flow IAT Min'), (0.0026, 'Bwd IAT Mean'), (0.0022, 'FIN Flag Count'), (0.0012, 'Idle Std'), (0.0001, 'Active Std'), (0.0, 'RST Flag Count'), (0.0, 'Fwd URG Flags'), (0.0, 'Fwd Avg Packets/Bulk'), (0.0, 'Fwd Avg Bytes/Bulk'), (0.0, 'Fwd Avg Bulk Rate'), (0.0, 'Flow Packets/s'), (0.0, 'Flow Bytes/s'), (0.0, 'ECE Flag Count'), (0.0, 'CWE Flag Count'), (0.0, 'Bwd URG Flags'), (0.0, 'Bwd PSH Flags'), (0.0, 'Bwd Avg Packets/Bulk'), (0.0, 'Bwd Avg Bytes/Bulk'), (0.0, 'Bwd Avg Bulk Rate')]\n"
     ]
    }
   ],
   "source": [
    "feature=(df.drop(['Label'],axis=1)).columns.values\n",
    "print (\"Features sorted by their score:\")\n",
    "print (sorted(zip(map(lambda x: round(x, 4), avg_feature), feature), reverse=True))"
   ]
  },
  {
   "cell_type": "code",
   "execution_count": 34,
   "metadata": {},
   "outputs": [],
   "source": [
    "f_list = sorted(zip(map(lambda x: round(x, 4), avg_feature), feature), reverse=True)"
   ]
  },
  {
   "cell_type": "code",
   "execution_count": 35,
   "metadata": {
    "scrolled": true
   },
   "outputs": [
    {
     "data": {
      "text/plain": [
       "77"
      ]
     },
     "execution_count": 35,
     "metadata": {},
     "output_type": "execute_result"
    }
   ],
   "source": [
    "len(f_list)"
   ]
  },
  {
   "cell_type": "code",
   "execution_count": 36,
   "metadata": {},
   "outputs": [],
   "source": [
    "# Select the important features from top-importance to bottom-importance until the accumulated importance reaches 0.9 (out of 1)\n",
    "Sum = 0\n",
    "fs = []\n",
    "for i in range(0, len(f_list)):\n",
    "    Sum = Sum + f_list[i][0]\n",
    "    fs.append(f_list[i][1])\n",
    "    if Sum>=0.9:\n",
    "        break        "
   ]
  },
  {
   "cell_type": "code",
   "execution_count": 37,
   "metadata": {},
   "outputs": [],
   "source": [
    "X_fs = df[fs].values"
   ]
  },
  {
   "cell_type": "code",
   "execution_count": 38,
   "metadata": {},
   "outputs": [],
   "source": [
    "X_train, X_test, y_train, y_test = train_test_split(X_fs,y, train_size = 0.8, test_size = 0.2, random_state = 0,stratify = y)"
   ]
  },
  {
   "cell_type": "code",
   "execution_count": 39,
   "metadata": {},
   "outputs": [
    {
     "data": {
      "text/plain": [
       "(5048, 39)"
      ]
     },
     "execution_count": 39,
     "metadata": {},
     "output_type": "execute_result"
    }
   ],
   "source": [
    "X_train.shape"
   ]
  },
  {
   "cell_type": "code",
   "execution_count": 40,
   "metadata": {},
   "outputs": [
    {
     "data": {
      "text/plain": [
       "6    1744\n",
       "1    1573\n",
       "3     761\n",
       "2     442\n",
       "5     317\n",
       "0     182\n",
       "4      29\n",
       "dtype: int64"
      ]
     },
     "execution_count": 40,
     "metadata": {},
     "output_type": "execute_result"
    }
   ],
   "source": [
    "pd.Series(y_train).value_counts()"
   ]
  },
  {
   "cell_type": "markdown",
   "metadata": {},
   "source": [
    "### Oversampling by SMOTE"
   ]
  },
  {
   "cell_type": "code",
   "execution_count": 41,
   "metadata": {},
   "outputs": [],
   "source": [
    "from imblearn.over_sampling import SMOTE\n",
    "smote=SMOTE(n_jobs=-1,sampling_strategy={4:1500})"
   ]
  },
  {
   "cell_type": "code",
   "execution_count": 42,
   "metadata": {},
   "outputs": [],
   "source": [
    "X_train, y_train = smote.fit_resample(X_train, y_train)"
   ]
  },
  {
   "cell_type": "code",
   "execution_count": 43,
   "metadata": {
    "scrolled": true
   },
   "outputs": [
    {
     "data": {
      "text/plain": [
       "6    1744\n",
       "1    1573\n",
       "4    1500\n",
       "3     761\n",
       "2     442\n",
       "5     317\n",
       "0     182\n",
       "dtype: int64"
      ]
     },
     "execution_count": 43,
     "metadata": {},
     "output_type": "execute_result"
    }
   ],
   "source": [
    "pd.Series(y_train).value_counts()"
   ]
  },
  {
   "cell_type": "markdown",
   "metadata": {
    "collapsed": true
   },
   "source": [
    "## Machine learning model training after feature selection"
   ]
  },
  {
   "cell_type": "code",
   "execution_count": 44,
   "metadata": {},
   "outputs": [
    {
     "name": "stdout",
     "output_type": "stream",
     "text": [
      "Accuracy of DT: 0.9857482185273159\n",
      "Precision of DT: 0.9855461893604585\n",
      "Recall of DT: 0.9857482185273159\n",
      "F1-score of DT: 0.985531346253258\n",
      "              precision    recall  f1-score   support\n",
      "\n",
      "           0       0.87      0.89      0.88        45\n",
      "           1       1.00      0.99      1.00       393\n",
      "           2       0.99      0.98      0.99       111\n",
      "           3       0.97      0.97      0.97       191\n",
      "           4       0.80      0.57      0.67         7\n",
      "           5       0.99      1.00      0.99        80\n",
      "           6       0.99      1.00      1.00       436\n",
      "\n",
      "    accuracy                           0.99      1263\n",
      "   macro avg       0.94      0.92      0.93      1263\n",
      "weighted avg       0.99      0.99      0.99      1263\n",
      "\n"
     ]
    },
    {
     "data": {
      "image/png": "[encoded data removed]",
      "text/plain": [
       "<Figure size 500x500 with 2 Axes>"
      ]
     },
     "metadata": {},
     "output_type": "display_data"
    }
   ],
   "source": [
    "dt = DecisionTreeClassifier(random_state = 0)\n",
    "dt.fit(X_train,y_train) \n",
    "dt_score=dt.score(X_test,y_test)\n",
    "y_predict=dt.predict(X_test)\n",
    "y_true=y_test\n",
    "print('Accuracy of DT: '+ str(dt_score))\n",
    "precision,recall,fscore,none= precision_recall_fscore_support(y_true, y_predict, average='weighted') \n",
    "print('Precision of DT: '+(str(precision)))\n",
    "print('Recall of DT: '+(str(recall)))\n",
    "print('F1-score of DT: '+(str(fscore)))\n",
    "print(classification_report(y_true,y_predict))\n",
    "cm=confusion_matrix(y_true,y_predict)\n",
    "f,ax=plt.subplots(figsize=(5,5))\n",
    "sns.heatmap(cm,annot=True,linewidth=0.5,linecolor=\"red\",fmt=\".0f\",ax=ax)\n",
    "plt.xlabel(\"y_pred\")\n",
    "plt.ylabel(\"y_true\")\n",
    "plt.show()"
   ]
  },
  {
   "cell_type": "code",
   "execution_count": 45,
   "metadata": {},
   "outputs": [],
   "source": [
    "dt_train=dt.predict(X_train)\n",
    "dt_test=dt.predict(X_test)"
   ]
  },
  {
   "cell_type": "code",
   "execution_count": 46,
   "metadata": {},
   "outputs": [
    {
     "name": "stdout",
     "output_type": "stream",
     "text": [
      "Accuracy of RF: 0.9897070467141726\n",
      "Precision of RF: 0.9899650380201408\n",
      "Recall of RF: 0.9897070467141726\n",
      "F1-score of RF: 0.9896787887664741\n",
      "              precision    recall  f1-score   support\n",
      "\n",
      "           0       0.85      0.89      0.87        45\n",
      "           1       0.99      0.99      0.99       393\n",
      "           2       1.00      0.98      0.99       111\n",
      "           3       0.98      0.99      0.99       191\n",
      "           4       1.00      0.71      0.83         7\n",
      "           5       0.99      1.00      0.99        80\n",
      "           6       1.00      1.00      1.00       436\n",
      "\n",
      "    accuracy                           0.99      1263\n",
      "   macro avg       0.97      0.94      0.95      1263\n",
      "weighted avg       0.99      0.99      0.99      1263\n",
      "\n"
     ]
    },
    {
     "data": {
      "image/png": "[encoded data removed]",
      "text/plain": [
       "<Figure size 500x500 with 2 Axes>"
      ]
     },
     "metadata": {},
     "output_type": "display_data"
    }
   ],
   "source": [
    "rf = RandomForestClassifier(random_state = 0)\n",
    "rf.fit(X_train,y_train) # modelin veri üzerinde öğrenmesi fit fonksiyonuyla yapılıyor\n",
    "rf_score=rf.score(X_test,y_test)\n",
    "y_predict=rf.predict(X_test)\n",
    "y_true=y_test\n",
    "print('Accuracy of RF: '+ str(rf_score))\n",
    "precision,recall,fscore,none= precision_recall_fscore_support(y_true, y_predict, average='weighted') \n",
    "print('Precision of RF: '+(str(precision)))\n",
    "print('Recall of RF: '+(str(recall)))\n",
    "print('F1-score of RF: '+(str(fscore)))\n",
    "print(classification_report(y_true,y_predict))\n",
    "cm=confusion_matrix(y_true,y_predict)\n",
    "f,ax=plt.subplots(figsize=(5,5))\n",
    "sns.heatmap(cm,annot=True,linewidth=0.5,linecolor=\"red\",fmt=\".0f\",ax=ax)\n",
    "plt.xlabel(\"y_pred\")\n",
    "plt.ylabel(\"y_true\")\n",
    "plt.show()"
   ]
  },
  {
   "cell_type": "code",
   "execution_count": 47,
   "metadata": {},
   "outputs": [],
   "source": [
    "rf_train=rf.predict(X_train)\n",
    "rf_test=rf.predict(X_test)"
   ]
  },
  {
   "cell_type": "code",
   "execution_count": 48,
   "metadata": {},
   "outputs": [
    {
     "name": "stdout",
     "output_type": "stream",
     "text": [
      "Accuracy of ET: 0.9881235154394299\n",
      "Precision of ET: 0.9880114160501933\n",
      "Recall of ET: 0.9881235154394299\n",
      "F1-score of ET: 0.9880284685852434\n",
      "              precision    recall  f1-score   support\n",
      "\n",
      "           0       0.87      0.87      0.87        45\n",
      "           1       0.99      0.99      0.99       393\n",
      "           2       0.99      0.97      0.98       111\n",
      "           3       0.98      0.99      0.99       191\n",
      "           4       0.83      0.71      0.77         7\n",
      "           5       0.99      1.00      0.99        80\n",
      "           6       1.00      1.00      1.00       436\n",
      "\n",
      "    accuracy                           0.99      1263\n",
      "   macro avg       0.95      0.93      0.94      1263\n",
      "weighted avg       0.99      0.99      0.99      1263\n",
      "\n"
     ]
    },
    {
     "data": {
      "image/png": "[encoded data removed]",
      "text/plain": [
       "<Figure size 500x500 with 2 Axes>"
      ]
     },
     "metadata": {},
     "output_type": "display_data"
    }
   ],
   "source": [
    "et = ExtraTreesClassifier(random_state = 0)\n",
    "et.fit(X_train,y_train) \n",
    "et_score=et.score(X_test,y_test)\n",
    "y_predict=et.predict(X_test)\n",
    "y_true=y_test\n",
    "print('Accuracy of ET: '+ str(et_score))\n",
    "precision,recall,fscore,none= precision_recall_fscore_support(y_true, y_predict, average='weighted') \n",
    "print('Precision of ET: '+(str(precision)))\n",
    "print('Recall of ET: '+(str(recall)))\n",
    "print('F1-score of ET: '+(str(fscore)))\n",
    "print(classification_report(y_true,y_predict))\n",
    "cm=confusion_matrix(y_true,y_predict)\n",
    "f,ax=plt.subplots(figsize=(5,5))\n",
    "sns.heatmap(cm,annot=True,linewidth=0.5,linecolor=\"red\",fmt=\".0f\",ax=ax)\n",
    "plt.xlabel(\"y_pred\")\n",
    "plt.ylabel(\"y_true\")\n",
    "plt.show()"
   ]
  },
  {
   "cell_type": "code",
   "execution_count": 49,
   "metadata": {},
   "outputs": [],
   "source": [
    "et_train=et.predict(X_train)\n",
    "et_test=et.predict(X_test)"
   ]
  },
  {
   "cell_type": "code",
   "execution_count": 50,
   "metadata": {},
   "outputs": [
    {
     "name": "stdout",
     "output_type": "stream",
     "text": [
      "Accuracy of XGBoost: 0.9857482185273159\n",
      "Precision of XGBoost: 0.9855489460444958\n",
      "Recall of XGBoost: 0.9857482185273159\n",
      "F1-score of XGBoost: 0.9853504471771772\n",
      "              precision    recall  f1-score   support\n",
      "\n",
      "           0       0.95      0.80      0.87        45\n",
      "           1       0.99      0.99      0.99       393\n",
      "           2       0.96      0.99      0.98       111\n",
      "           3       0.97      1.00      0.98       191\n",
      "           4       0.83      0.71      0.77         7\n",
      "           5       0.99      0.99      0.99        80\n",
      "           6       1.00      0.99      0.99       436\n",
      "\n",
      "    accuracy                           0.99      1263\n",
      "   macro avg       0.96      0.93      0.94      1263\n",
      "weighted avg       0.99      0.99      0.99      1263\n",
      "\n"
     ]
    },
    {
     "data": {
      "image/png": "[encoded data removed]",
      "text/plain": [
       "<Figure size 500x500 with 2 Axes>"
      ]
     },
     "metadata": {},
     "output_type": "display_data"
    }
   ],
   "source": [
    "xg = xgb.XGBClassifier(n_estimators = 10)\n",
    "xg.fit(X_train,y_train)\n",
    "xg_score=xg.score(X_test,y_test)\n",
    "y_predict=xg.predict(X_test)\n",
    "y_true=y_test\n",
    "print('Accuracy of XGBoost: '+ str(xg_score))\n",
    "precision,recall,fscore,none= precision_recall_fscore_support(y_true, y_predict, average='weighted') \n",
    "print('Precision of XGBoost: '+(str(precision)))\n",
    "print('Recall of XGBoost: '+(str(recall)))\n",
    "print('F1-score of XGBoost: '+(str(fscore)))\n",
    "print(classification_report(y_true,y_predict))\n",
    "cm=confusion_matrix(y_true,y_predict)\n",
    "f,ax=plt.subplots(figsize=(5,5))\n",
    "sns.heatmap(cm,annot=True,linewidth=0.5,linecolor=\"red\",fmt=\".0f\",ax=ax)\n",
    "plt.xlabel(\"y_pred\")\n",
    "plt.ylabel(\"y_true\")\n",
    "plt.show()"
   ]
  },
  {
   "cell_type": "code",
   "execution_count": 51,
   "metadata": {},
   "outputs": [],
   "source": [
    "xg_train=xg.predict(X_train)\n",
    "xg_test=xg.predict(X_test)"
   ]
  },
  {
   "cell_type": "markdown",
   "metadata": {
    "collapsed": true
   },
   "source": [
    "### Stacking model construction"
   ]
  },
  {
   "cell_type": "code",
   "execution_count": 52,
   "metadata": {},
   "outputs": [
    {
     "name": "stdout",
     "output_type": "stream",
     "text": [
      "   DecisionTree  RandomForest  ExtraTrees  XgBoost\n",
      "0             1             1           1        1\n",
      "1             6             6           6        6\n",
      "2             3             3           3        3\n",
      "3             6             6           6        6\n",
      "4             2             2           2        2\n"
     ]
    }
   ],
   "source": [
    "# Import necessary libraries\n",
    "import pandas as pd\n",
    "import numpy as np\n",
    "\n",
    "# Sample data (make sure these variables are already defined in your code)\n",
    "# dt_train, rf_train, et_train, xg_train should be numpy arrays or similar\n",
    "\n",
    "# Create a DataFrame with predictions from different models\n",
    "base_predictions_train = pd.DataFrame({\n",
    "    'DecisionTree': np.ravel(dt_train),\n",
    "    'RandomForest': np.ravel(rf_train),\n",
    "    'ExtraTrees': np.ravel(et_train),\n",
    "    'XgBoost': np.ravel(xg_train),\n",
    "})\n",
    "\n",
    "# Display the first 5 rows of the DataFrame\n",
    "print(base_predictions_train.head(5))\n"
   ]
  },
  {
   "cell_type": "code",
   "execution_count": 53,
   "metadata": {},
   "outputs": [],
   "source": [
    "dt_train=dt_train.reshape(-1, 1)\n",
    "et_train=et_train.reshape(-1, 1)\n",
    "rf_train=rf_train.reshape(-1, 1)\n",
    "xg_train=xg_train.reshape(-1, 1)\n",
    "dt_test=dt_test.reshape(-1, 1)\n",
    "et_test=et_test.reshape(-1, 1)\n",
    "rf_test=rf_test.reshape(-1, 1)\n",
    "xg_test=xg_test.reshape(-1, 1)"
   ]
  },
  {
   "cell_type": "code",
   "execution_count": 54,
   "metadata": {},
   "outputs": [],
   "source": [
    "x_train = np.concatenate(( dt_train, et_train, rf_train, xg_train), axis=1)\n",
    "x_test = np.concatenate(( dt_test, et_test, rf_test, xg_test), axis=1)"
   ]
  },
  {
   "cell_type": "code",
   "execution_count": 55,
   "metadata": {},
   "outputs": [
    {
     "name": "stdout",
     "output_type": "stream",
     "text": [
      "Accuracy of Stacking: 0.9873317498020586\n",
      "Precision of Stacking: 0.9874762634666863\n",
      "Recall of Stacking: 0.9873317498020586\n",
      "F1-score of Stacking: 0.987246758942935\n",
      "              precision    recall  f1-score   support\n",
      "\n",
      "           0       0.87      0.89      0.88        45\n",
      "           1       1.00      1.00      1.00       393\n",
      "           2       1.00      0.97      0.99       111\n",
      "           3       0.97      0.98      0.98       191\n",
      "           4       1.00      0.71      0.83         7\n",
      "           5       0.99      1.00      0.99        80\n",
      "           6       0.99      1.00      1.00       436\n",
      "\n",
      "    accuracy                           0.99      1263\n",
      "   macro avg       0.97      0.94      0.95      1263\n",
      "weighted avg       0.99      0.99      0.99      1263\n",
      "\n"
     ]
    },
    {
     "data": {
      "image/png": "[encoded data removed]",
      "text/plain": [
       "<Figure size 500x500 with 2 Axes>"
      ]
     },
     "metadata": {},
     "output_type": "display_data"
    }
   ],
   "source": [
    "stk = xgb.XGBClassifier().fit(x_train, y_train)\n",
    "y_predict=stk.predict(x_test)\n",
    "y_true=y_test\n",
    "stk_score=accuracy_score(y_true,y_predict)\n",
    "print('Accuracy of Stacking: '+ str(stk_score))\n",
    "precision,recall,fscore,none= precision_recall_fscore_support(y_true, y_predict, average='weighted') \n",
    "print('Precision of Stacking: '+(str(precision)))\n",
    "print('Recall of Stacking: '+(str(recall)))\n",
    "print('F1-score of Stacking: '+(str(fscore)))\n",
    "print(classification_report(y_true,y_predict))\n",
    "cm=confusion_matrix(y_true,y_predict)\n",
    "f,ax=plt.subplots(figsize=(5,5))\n",
    "sns.heatmap(cm,annot=True,linewidth=0.5,linecolor=\"red\",fmt=\".0f\",ax=ax)\n",
    "plt.xlabel(\"y_pred\")\n",
    "plt.ylabel(\"y_true\")\n",
    "plt.show()"
   ]
  },
  {
   "cell_type": "code",
   "execution_count": null,
   "metadata": {},
   "outputs": [],
   "source": []
  },
  {
   "cell_type": "code",
   "execution_count": null,
   "metadata": {},
   "outputs": [],
   "source": []
  },
  {
   "cell_type": "code",
   "execution_count": null,
   "metadata": {},
   "outputs": [],
   "source": []
  }
 ],
 "metadata": {
  "anaconda-cloud": {},
  "kernelspec": {
   "display_name": "Python 3 (ipykernel)",
   "language": "python",
   "name": "python3"
  },
  "language_info": {
   "codemirror_mode": {
    "name": "ipython",
    "version": 3
   },
   "file_extension": ".py",
   "mimetype": "text/x-python",
   "name": "python",
   "nbconvert_exporter": "python",
   "pygments_lexer": "ipython3",
   "version": "3.9.13"
  },
  "toc": {
   "base_numbering": 1,
   "nav_menu": {},
   "number_sections": true,
   "sideBar": true,
   "skip_h1_title": false,
   "title_cell": "Table of Contents",
   "title_sidebar": "Contents",
   "toc_cell": false,
   "toc_position": {
    "height": "calc(100% - 180px)",
    "left": "10px",
    "top": "150px",
    "width": "328px"
   },
   "toc_section_display": true,
   "toc_window_display": true
  }
 },
 "nbformat": 4,
 "nbformat_minor": 2
}
